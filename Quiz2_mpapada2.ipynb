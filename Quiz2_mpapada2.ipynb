{
  "nbformat": 4,
  "nbformat_minor": 0,
  "metadata": {
    "colab": {
      "name": "Quiz2_mpapada2.ipynb",
      "version": "0.3.2",
      "provenance": [],
      "collapsed_sections": [],
      "include_colab_link": true
    },
    "kernelspec": {
      "name": "python3",
      "display_name": "Python 3"
    }
  },
  "cells": [
    {
      "cell_type": "markdown",
      "metadata": {
        "id": "view-in-github",
        "colab_type": "text"
      },
      "source": [
        "<a href=\"https://colab.research.google.com/github/mpapada2/Class0/blob/master/Quiz2_mpapada2.ipynb\" target=\"_parent\"><img src=\"https://colab.research.google.com/assets/colab-badge.svg\" alt=\"Open In Colab\"/></a>"
      ]
    },
    {
      "cell_type": "markdown",
      "metadata": {
        "id": "ud5UvM5tyIJu",
        "colab_type": "text"
      },
      "source": [
        "#Problem 1"
      ]
    },
    {
      "cell_type": "markdown",
      "metadata": {
        "id": "yJttJ_ONIsDb",
        "colab_type": "text"
      },
      "source": [
        "The first thing we can do is split the MSE expression into a sum of sums because anything that, for example, is in G1 will go to zero in the G0 summation.\n",
        "\n",
        "I can show how to do this with two regressors and from there it can extrapolated to more regressors. We can redefine the betas as follows:\n",
        "$$\\beta_1 = \\gamma_1$$\n",
        "$$\\beta_2 = \\gamma_2 - \\gamma_1$$\n",
        "Substitute them into the MSE expression: \n",
        "$$\\sum_{i=1} (Y_i - \\gamma_1 - (\\gamma_2 - \\gamma_1)X_i)^2  $$\n",
        "\n",
        "$$\\sum_{i=1} (Y_i - \\gamma_1(1-X_i) - \\gamma_2X_i)^2  $$\n",
        "\n",
        "If we the split the sum into two sums over their respective groups then if we say X is in G1, its value will be 1 when summing over G1 but the values not in G0 ie (1-X) will be 0. Thus we get:\n",
        "\n",
        "$$\\sum_{i=1, i\\in\\mathbb{G1}} (Y_i - \\gamma_1)^2\\ + \\sum_{i=1, i\\in\\mathbb{G2}} (Y_i - \\gamma_2)^2$$\n",
        "\n",
        "This can be extrapolated to this problem to say:\n",
        "\n",
        "$$\\sum_{i=1, i\\in\\mathbb{G1}} (Y_i - \\beta_1)^2\\ + \\sum_{i=1, i\\in\\mathbb{G2}} (Y_i - \\beta_2)^2 + ... \\sum_{i=1, i\\in\\mathbb{Gk}} (Y_i - \\beta_k)^2$$\n",
        "\n",
        "Therefore each $$\\beta_k$$ is predicting each $$Y_k$$ and because the best predictor for data points all in the same x group when we have no information about y will be the average of those data points we now that \n",
        "$$\\beta_k = Y_k(mean)$$.\n"
      ]
    },
    {
      "cell_type": "markdown",
      "metadata": {
        "id": "s48VjL7jyLPM",
        "colab_type": "text"
      },
      "source": [
        "#Problem 2"
      ]
    },
    {
      "cell_type": "code",
      "metadata": {
        "id": "tn7akzhBcGtA",
        "colab_type": "code",
        "colab": {
          "base_uri": "https://localhost:8080/",
          "height": 363
        },
        "outputId": "1b7f3cd1-ed86-4b92-9cbd-a1292a6c63ee"
      },
      "source": [
        "import pandas as pd\n",
        "import seaborn as sns\n",
        "import matplotlib.pyplot as plt\n",
        "import numpy as np\n",
        "from scipy import stats as st\n",
        "\n",
        "! if [ ! -e kirby21.csv ] ; \\\n",
        "  then wget https://raw.githubusercontent.com/bcaffo/ds4bme_intro/master/data/kirby21.csv; \\\n",
        "fi\n",
        "  \n",
        "df = pd.read_csv(\"/content/kirby21.csv\")\n",
        "TL = df.volume[df.roi == 'Diencephalon_L'][df.type == 1][df.level == 1].to_numpy()\n",
        "TR = df.volume[df.roi == 'Diencephalon_R'][df.type == 1][df.level == 1].to_numpy()\n",
        "sns.scatterplot(TR,TL)\n",
        "\n",
        "beta1 = st.pearsonr(TR,TL)[0]*np.std(TL)/np.std(TR)\n",
        "beta0 = np.mean(TL) - np.mean(TR)*beta1\n",
        "sns.scatterplot(TR,TL)\n",
        "sns.lineplot(TR,beta0 +beta1 * TR)\n",
        "plt.title('Predicting Diencephalon_L with Diencephalon_R')\n",
        "error_list = []\n",
        "for i in range(len(TL)):\n",
        "  error_rate = (TL[i] - beta0 - beta1*TR[i])**2\n",
        "  error_list.append(error_rate)\n",
        "print(\"beta0 =\" + str(beta0))\n",
        "error_rate = sum(error_list)\n",
        "print(\"beta1 =\" + str(beta1))\n",
        "print(\"sample error rate=\" + str(error_rate))\n",
        "plt.xlabel('Volume of Diencephalon_L')\n",
        "plt.ylabel('Volume of Diencephalon_R')\n"
      ],
      "execution_count": 16,
      "outputs": [
        {
          "output_type": "stream",
          "text": [
            "beta0 =-694.1809221478507\n",
            "beta1 =1.0675677731655158\n",
            "sample error rate=832740.3005383236\n"
          ],
          "name": "stdout"
        },
        {
          "output_type": "execute_result",
          "data": {
            "text/plain": [
              "Text(0, 0.5, 'Volume of Diencephalon_R')"
            ]
          },
          "metadata": {
            "tags": []
          },
          "execution_count": 16
        },
        {
          "output_type": "display_data",
          "data": {
            "image/png": "[encoded data removed]",
            "text/plain": [
              "<Figure size 432x288 with 1 Axes>"
            ]
          },
          "metadata": {
            "tags": []
          }
        }
      ]
    },
    {
      "cell_type": "markdown",
      "metadata": {
        "id": "5PNrAr7uyNZH",
        "colab_type": "text"
      },
      "source": [
        "#Problem 3"
      ]
    },
    {
      "cell_type": "markdown",
      "metadata": {
        "id": "4H7xj073yP4l",
        "colab_type": "text"
      },
      "source": [
        "Use the dataset \"Newspaper Endorsements of Presidential Candidates\" to relate number of endorsements to if a candidate wins or loses. I could use a logistic regression.\n"
      ]
    }
  ]
}